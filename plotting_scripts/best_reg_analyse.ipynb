{
 "cells": [
  {
   "cell_type": "code",
   "execution_count": 8,
   "id": "64f4277c",
   "metadata": {},
   "outputs": [],
   "source": [
    "import pandas as pd\n",
    "import matplotlib.pyplot as plt\n",
    "import seaborn as sns\n",
    "import os\n",
    "import numpy as np"
   ]
  },
  {
   "cell_type": "code",
   "execution_count": 36,
   "id": "c2fe4f50",
   "metadata": {},
   "outputs": [],
   "source": [
    "# --- Paths ---\n",
    "csv_path = \"logs/final_step_running_2025-08-31_22-45-45/Swiss_Roll/metrics_all_regs_with_diffs.csv\"\n",
    "save_folder = os.path.dirname(csv_path)\n",
    "os.makedirs(save_folder, exist_ok=True)\n",
    "\n",
    "# --- Load CSV ---\n",
    "df = pd.read_csv(csv_path)\n",
    "\n",
    "# Remove percentage signs and convert to float for pct diff columns\n",
    "pct_cols = [c for c in df.columns if \"_pct_diff\" in c]\n",
    "for col in pct_cols:\n",
    "    df[col] = df[col].str.replace('%', '').astype(float)"
   ]
  },
  {
   "cell_type": "code",
   "execution_count": 37,
   "id": "2537c08d",
   "metadata": {},
   "outputs": [],
   "source": [
    "# Split mean ± std columns\n",
    "def split_mean_std(col):\n",
    "    means, stds = [], []\n",
    "    for v in df[col]:\n",
    "        if '±' in str(v):\n",
    "            m, s = str(v).split('±')\n",
    "            means.append(float(m.strip()))\n",
    "            stds.append(float(s.strip()))\n",
    "        else:\n",
    "            means.append(float(v))\n",
    "            stds.append(0.0)\n",
    "    return pd.Series(means), pd.Series(stds)\n",
    "\n",
    "metric_cols = ['precision','recall','density','coverage']\n",
    "mean_cols, std_cols = {}, {}\n",
    "for col in metric_cols:\n",
    "    df[col+\"_mean\"], df[col+\"_std\"] = split_mean_std(col)\n",
    "    mean_cols[col] = col+\"_mean\"\n",
    "    std_cols[col] = col+\"_std\""
   ]
  },
  {
   "cell_type": "code",
   "execution_count": 38,
   "id": "60ff8e76",
   "metadata": {},
   "outputs": [],
   "source": [
    "# --- Helper to find best value ---\n",
    "def best_color(metric, value):\n",
    "    return 'red' if value==df[metric+\"_mean\"].max() else 'blue'"
   ]
  },
  {
   "cell_type": "code",
   "execution_count": 39,
   "id": "f1d85cee",
   "metadata": {},
   "outputs": [],
   "source": [
    "# --- Plot reg vs metrics with shaded std ---\n",
    "for metric in metric_cols:\n",
    "    plt.figure(figsize=(7,5))\n",
    "    mean = df[metric+\"_mean\"]\n",
    "    std = df[metric+\"_std\"]\n",
    "    \n",
    "    plt.plot(df['Reg'], mean, 'o-', label=f\"{metric} mean\", color='blue')\n",
    "    plt.fill_between(df['Reg'], mean-std, mean+std, color='blue', alpha=0.2, label=\"±1 std\")\n",
    "    \n",
    "    # Highlight best value\n",
    "    best_idx = mean.idxmax()\n",
    "    plt.scatter(df.loc[best_idx,'Reg'], mean[best_idx],\n",
    "                color='green' if metric in ['precision','density'] else 'red', s=100, label=\"Best\")\n",
    "    \n",
    "    plt.title(f\"Reg vs {metric} (mean ± std shaded)\")\n",
    "    plt.xlabel(\"Reg\")\n",
    "    plt.ylabel(metric)\n",
    "    plt.grid(True)\n",
    "    plt.legend()\n",
    "    plt.tight_layout()\n",
    "    plt.savefig(os.path.join(save_folder, f\"reg_vs_{metric}.png\"))\n",
    "    plt.close()\n"
   ]
  },
  {
   "cell_type": "code",
   "execution_count": 40,
   "id": "26d9e18b",
   "metadata": {},
   "outputs": [],
   "source": [
    "# --- Plot percentage differences ---\n",
    "for metric in metric_cols:\n",
    "    pct_col = metric+\"_pct_diff\"\n",
    "    if pct_col in df.columns:\n",
    "        plt.figure(figsize=(7,5))\n",
    "        sns.barplot(\n",
    "            x='Reg', \n",
    "            y=pct_col, \n",
    "            data=df,      # assign hue\n",
    "            dodge=False,    # no dodging needed\n",
    "            legend=False    # hide legend\n",
    "        )\n",
    "        plt.title(f\"Reg vs {metric} % difference\")\n",
    "        plt.xlabel(\"Reg\")\n",
    "        plt.ylabel(f\"{metric} % difference\")\n",
    "        plt.grid(True)\n",
    "        plt.tight_layout()\n",
    "        plt.savefig(os.path.join(save_folder, f\"reg_vs_{metric}_pct_diff.png\"))\n",
    "        plt.close()"
   ]
  },
  {
   "cell_type": "code",
   "execution_count": 41,
   "id": "c4e11a59",
   "metadata": {},
   "outputs": [
    {
     "name": "stdout",
     "output_type": "stream",
     "text": [
      "All plots saved in: logs/final_step_running_2025-08-31_22-45-45/Swiss_Roll\n"
     ]
    }
   ],
   "source": [
    "# --- Best reg \"confusion matrix\" style heatmap ---\n",
    "best_regs = []\n",
    "for metric in metric_cols:\n",
    "    if metric in ['precision','density']:\n",
    "        best_reg = df.loc[df[metric+\"_mean\"].idxmax(),'Reg']\n",
    "    else:\n",
    "        best_reg = df.loc[df[metric+\"_mean\"].idxmin(),'Reg']\n",
    "    best_regs.append(best_reg)\n",
    "\n",
    "heatmap_data = pd.DataFrame({'Metric': metric_cols, 'Best_Reg': best_regs})\n",
    "plt.figure(figsize=(8,4))\n",
    "sns.heatmap(heatmap_data.set_index('Metric').T, annot=True, fmt='', cmap='viridis', cbar=False)\n",
    "plt.title(\"Best Reg per Metric\")\n",
    "plt.tight_layout()\n",
    "plt.savefig(os.path.join(save_folder, \"best_reg_heatmap.png\"))\n",
    "plt.close()\n",
    "\n",
    "print(\"All plots saved in:\", save_folder)"
   ]
  },
  {
   "cell_type": "code",
   "execution_count": null,
   "id": "ab61ea12",
   "metadata": {},
   "outputs": [],
   "source": []
  }
 ],
 "metadata": {
  "kernelspec": {
   "display_name": "diffusion",
   "language": "python",
   "name": "python3"
  },
  "language_info": {
   "codemirror_mode": {
    "name": "ipython",
    "version": 3
   },
   "file_extension": ".py",
   "mimetype": "text/x-python",
   "name": "python",
   "nbconvert_exporter": "python",
   "pygments_lexer": "ipython3",
   "version": "3.10.18"
  }
 },
 "nbformat": 4,
 "nbformat_minor": 5
}
