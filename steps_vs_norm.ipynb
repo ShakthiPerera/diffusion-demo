{
 "cells": [
  {
   "cell_type": "code",
   "execution_count": 1,
   "id": "9ed02345",
   "metadata": {},
   "outputs": [],
   "source": [
    "import os\n",
    "import pandas as pd\n",
    "import matplotlib.pyplot as plt\n",
    "import numpy as np\n",
    "from glob import glob"
   ]
  },
  {
   "cell_type": "code",
   "execution_count": 11,
   "id": "dcc45a63",
   "metadata": {},
   "outputs": [],
   "source": [
    "def running_mean(x, N=50):\n",
    "    \"\"\"Compute running mean with window size N.\"\"\"\n",
    "    return np.convolve(x, np.ones(N)/N, mode='valid')\n",
    "\n",
    "def plot_dataset(base_path, dataset_name, window=10, step_stride=10):\n",
    "    dataset_path = os.path.join(base_path, dataset_name)\n",
    "    reg_folders = sorted([f for f in os.listdir(dataset_path) if f.startswith(\"reg_\")])\n",
    "\n",
    "    iso_plot = plt.figure(figsize=(10, 6))\n",
    "    norm_plot = plt.figure(figsize=(10, 6))\n",
    "\n",
    "    iso_ax = iso_plot.add_subplot(111)\n",
    "    norm_ax = norm_plot.add_subplot(111)\n",
    "\n",
    "    for reg in reg_folders:\n",
    "        reg_path = os.path.join(dataset_path, reg)\n",
    "        csv_files = glob(os.path.join(reg_path, \"*.csv\"))\n",
    "        if not csv_files:\n",
    "            continue\n",
    "\n",
    "        # take the first csv\n",
    "        df = pd.read_csv(csv_files[0])\n",
    "\n",
    "        # stride (take every step_stride rows)\n",
    "        df = df.iloc[::step_stride, :]\n",
    "\n",
    "        steps = df[\"Step\"].values\n",
    "        norm = df[\"Predicted_Noise_L2Norm\"].values\n",
    "        iso = df[\"IsoValue\"].values\n",
    "\n",
    "        # smooth with running mean\n",
    "        steps_smooth = steps[window-1:]\n",
    "        norm_smooth = running_mean(norm, N=window)\n",
    "        iso_smooth = running_mean(iso, N=window)\n",
    "\n",
    "        # plot separately\n",
    "        norm_ax.plot(steps_smooth, norm_smooth, label=f\"{reg}\")\n",
    "        iso_ax.plot(steps_smooth, iso_smooth, label=f\"{reg}\")\n",
    "\n",
    "    # Norm plot\n",
    "    norm_ax.set_title(f\"Dataset: {dataset_name} - Norm\")\n",
    "    norm_ax.set_xlabel(\"Steps\")\n",
    "    norm_ax.set_ylabel(\"Predicted_Noise_L2Norm\")\n",
    "    norm_ax.legend()\n",
    "    norm_ax.grid(True)\n",
    "\n",
    "    norm_save = os.path.join(base_path, f\"{dataset_name}_norm.png\")\n",
    "    norm_plot.savefig(norm_save, dpi=300)\n",
    "    plt.close(norm_plot)\n",
    "\n",
    "    # Iso plot\n",
    "    iso_ax.set_title(f\"Dataset: {dataset_name} - Iso\")\n",
    "    iso_ax.set_xlabel(\"Steps\")\n",
    "    iso_ax.set_ylabel(\"IsoValue\")\n",
    "    iso_ax.legend()\n",
    "    iso_ax.grid(True)\n",
    "\n",
    "    iso_save = os.path.join(base_path, f\"{dataset_name}_iso.png\")\n",
    "    iso_plot.savefig(iso_save, dpi=300)\n",
    "    plt.close(iso_plot)"
   ]
  },
  {
   "cell_type": "code",
   "execution_count": 13,
   "id": "91994cbf",
   "metadata": {},
   "outputs": [],
   "source": [
    "base_dir = \"logs/norms_iso_2025-08-23_12-58-03\"\n",
    "datasets = [d for d in os.listdir(base_dir) if os.path.isdir(os.path.join(base_dir, d))]\n",
    "\n",
    "for ds in datasets:\n",
    "    plot_dataset(base_dir, ds, window=50, step_stride=50)"
   ]
  },
  {
   "cell_type": "code",
   "execution_count": null,
   "id": "95f8081b",
   "metadata": {},
   "outputs": [],
   "source": []
  }
 ],
 "metadata": {
  "kernelspec": {
   "display_name": "diffusion",
   "language": "python",
   "name": "python3"
  },
  "language_info": {
   "codemirror_mode": {
    "name": "ipython",
    "version": 3
   },
   "file_extension": ".py",
   "mimetype": "text/x-python",
   "name": "python",
   "nbconvert_exporter": "python",
   "pygments_lexer": "ipython3",
   "version": "3.10.18"
  }
 },
 "nbformat": 4,
 "nbformat_minor": 5
}
